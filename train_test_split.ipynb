{
 "cells": [
  {
   "cell_type": "code",
   "execution_count": 1,
   "metadata": {},
   "outputs": [],
   "source": [
    "import os\n",
    "import shutil"
   ]
  },
  {
   "cell_type": "code",
   "execution_count": 2,
   "metadata": {},
   "outputs": [],
   "source": [
    "path = './CUB_200_2011'\n",
    "new_path = ['./data/Birds/test', './data/Birds/train']\n",
    "os.makedirs(new_path[0], exist_ok=True)\n",
    "os.makedirs(new_path[1], exist_ok=True)"
   ]
  },
  {
   "cell_type": "code",
   "execution_count": 7,
   "metadata": {},
   "outputs": [],
   "source": [
    "f = open(os.path.join(path, 'images.txt'), 'r')\n",
    "g = open(os.path.join(path, 'train_test_split.txt'), 'r')\n",
    "while True:\n",
    "    l1 = f.readline()\n",
    "    l2 = g.readline()\n",
    "    if not l1:\n",
    "        break\n",
    "    idx, name = l1.split()\n",
    "    folder, file = name.split('/')\n",
    "    _, is_train = map(int,l2.split())\n",
    "    os.makedirs(os.path.join(new_path[is_train], folder), exist_ok=True)\n",
    "    shutil.copy(os.path.join(path, 'images', name), os.path.join(new_path[is_train], name))"
   ]
  },
  {
   "cell_type": "code",
   "execution_count": 8,
   "metadata": {},
   "outputs": [
    {
     "name": "stdout",
     "output_type": "stream",
     "text": [
      "5994\n"
     ]
    }
   ],
   "source": [
    "!find ./data/Birds/train -type f | wc -l"
   ]
  },
  {
   "cell_type": "code",
   "execution_count": 9,
   "metadata": {},
   "outputs": [
    {
     "name": "stdout",
     "output_type": "stream",
     "text": [
      "5794\n"
     ]
    }
   ],
   "source": [
    "!find ./data/Birds/test -type f | wc -l"
   ]
  },
  {
   "cell_type": "code",
   "execution_count": null,
   "metadata": {},
   "outputs": [],
   "source": []
  }
 ],
 "metadata": {
  "kernelspec": {
   "display_name": "Python 3",
   "language": "python",
   "name": "python3"
  },
  "language_info": {
   "codemirror_mode": {
    "name": "ipython",
    "version": 3
   },
   "file_extension": ".py",
   "mimetype": "text/x-python",
   "name": "python",
   "nbconvert_exporter": "python",
   "pygments_lexer": "ipython3",
   "version": "3.8.5"
  }
 },
 "nbformat": 4,
 "nbformat_minor": 4
}
